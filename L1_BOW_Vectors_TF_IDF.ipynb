{
  "nbformat": 4,
  "nbformat_minor": 0,
  "metadata": {
    "colab": {
      "provenance": [],
      "authorship_tag": "ABX9TyOW1QNkGbMC6TOlTY75DWRc"
    },
    "kernelspec": {
      "name": "python3",
      "display_name": "Python 3"
    },
    "language_info": {
      "name": "python"
    }
  },
  "cells": [
    {
      "cell_type": "code",
      "execution_count": null,
      "metadata": {
        "id": "k990XR3O5dmg"
      },
      "outputs": [],
      "source": []
    },
    {
      "cell_type": "code",
      "source": [
        "from collections import defaultdict\n",
        "import string\n",
        "\n",
        "corpus = [\n",
        "    \"The sun dipped below the horizon, casting a warm golden glow across the ocean waves.\",\n",
        "    \"Advancements in artificial intelligence have revolutionized industries ranging from healthcare to finance.\",\n",
        "    \"She glanced at the clock, realizing she only had ten minutes to prepare for the meeting.\",\n",
        "]"
      ],
      "metadata": {
        "id": "PoykU0lH5hDw"
      },
      "execution_count": null,
      "outputs": []
    },
    {
      "cell_type": "code",
      "source": [
        "def preprocess(text):\n",
        "    text = text.lower()\n",
        "    text = text.translate(str.maketrans(\"\",\"\", string.punctuation))\n",
        "    tokens = text.split()\n",
        "    return tokens\n",
        "\n",
        "proc_corpus = [preprocess(sent) for sent in corpus]\n",
        "print(proc_corpus)"
      ],
      "metadata": {
        "colab": {
          "base_uri": "https://localhost:8080/"
        },
        "id": "gLKI1JZN6dAu",
        "outputId": "466035b8-5746-4d1c-be3d-4d09711dc705"
      },
      "execution_count": null,
      "outputs": [
        {
          "output_type": "stream",
          "name": "stdout",
          "text": [
            "[['the', 'sun', 'dipped', 'below', 'the', 'horizon', 'casting', 'a', 'warm', 'golden', 'glow', 'across', 'the', 'ocean', 'waves'], ['advancements', 'in', 'artificial', 'intelligence', 'have', 'revolutionized', 'industries', 'ranging', 'from', 'healthcare', 'to', 'finance'], ['she', 'glanced', 'at', 'the', 'clock', 'realizing', 'she', 'only', 'had', 'ten', 'minutes', 'to', 'prepare', 'for', 'the', 'meeting']]\n"
          ]
        }
      ]
    },
    {
      "cell_type": "code",
      "source": [
        "vocab = set()\n",
        "\n",
        "for sent in proc_corpus:\n",
        "    vocab.update(sent)\n",
        "\n",
        "vocab = sorted(list(vocab))\n",
        "print(\"Vocab:\", vocab)\n",
        "print(\"Vocab length is\", len(vocab))"
      ],
      "metadata": {
        "colab": {
          "base_uri": "https://localhost:8080/"
        },
        "id": "hB9K-GId7Vwy",
        "outputId": "e415d46b-1d22-4dde-ecf2-7e6ab7c44822"
      },
      "execution_count": null,
      "outputs": [
        {
          "output_type": "stream",
          "name": "stdout",
          "text": [
            "Vocab: ['a', 'across', 'advancements', 'artificial', 'at', 'below', 'casting', 'clock', 'dipped', 'finance', 'for', 'from', 'glanced', 'glow', 'golden', 'had', 'have', 'healthcare', 'horizon', 'in', 'industries', 'intelligence', 'meeting', 'minutes', 'ocean', 'only', 'prepare', 'ranging', 'realizing', 'revolutionized', 'she', 'sun', 'ten', 'the', 'to', 'warm', 'waves']\n",
            "Vocab length is 37\n"
          ]
        }
      ]
    },
    {
      "cell_type": "code",
      "source": [
        "def create_bow(sentence, vocab):\n",
        "    vector = [0] * len(vocab)\n",
        "    for word in sentence:\n",
        "        if word in vocab:\n",
        "            idx = vocab.index(word)\n",
        "            vector[idx] += 1\n",
        "    return vector\n",
        "\n",
        "\n",
        "bow_vector = [create_bow(sent, vocab) for sent in proc_corpus]\n",
        "print(\"BOW Vectors:\")\n",
        "for vector in bow_vector:\n",
        "    print(vector)"
      ],
      "metadata": {
        "colab": {
          "base_uri": "https://localhost:8080/"
        },
        "id": "AFFvpkLq732L",
        "outputId": "de1061a7-f9b0-4d49-f509-d49743587235"
      },
      "execution_count": null,
      "outputs": [
        {
          "output_type": "stream",
          "name": "stdout",
          "text": [
            "BOW Vectors:\n",
            "[1, 1, 0, 0, 0, 1, 1, 0, 1, 0, 0, 0, 0, 1, 1, 0, 0, 0, 1, 0, 0, 0, 0, 0, 1, 0, 0, 0, 0, 0, 0, 1, 0, 3, 0, 1, 1]\n",
            "[0, 0, 1, 1, 0, 0, 0, 0, 0, 1, 0, 1, 0, 0, 0, 0, 1, 1, 0, 1, 1, 1, 0, 0, 0, 0, 0, 1, 0, 1, 0, 0, 0, 0, 1, 0, 0]\n",
            "[0, 0, 0, 0, 1, 0, 0, 1, 0, 0, 1, 0, 1, 0, 0, 1, 0, 0, 0, 0, 0, 0, 1, 1, 0, 1, 1, 0, 1, 0, 2, 0, 1, 2, 1, 0, 0]\n"
          ]
        }
      ]
    },
    {
      "cell_type": "code",
      "source": [
        "from sklearn.feature_extraction.text import CountVectorizer\n",
        "corpus = [\n",
        "    \"The sun dipped below the horizon, casting a warm golden glow across the ocean waves.\",\n",
        "    \"Advancements in artificial intelligence have revolutionized industries ranging from healthcare to finance.\",\n",
        "    \"She glanced at the clock, realizing she only had ten minutes to prepare for the meeting.\",\n",
        "]\n",
        "\n",
        "vectorizer = CountVectorizer()\n",
        "X = vectorizer.fit_transform(corpus)\n",
        "print(\"Vocubulary:\", vectorizer.get_feature_names_out())\n",
        "print(\"BoW Representation\")\n",
        "print(X.toarray())"
      ],
      "metadata": {
        "colab": {
          "base_uri": "https://localhost:8080/"
        },
        "id": "SLhcmgHw9BJn",
        "outputId": "3bb1b5ad-f424-49a6-9983-dce31df094c6"
      },
      "execution_count": null,
      "outputs": [
        {
          "output_type": "stream",
          "name": "stdout",
          "text": [
            "Vocubulary: ['across' 'advancements' 'artificial' 'at' 'below' 'casting' 'clock'\n",
            " 'dipped' 'finance' 'for' 'from' 'glanced' 'glow' 'golden' 'had' 'have'\n",
            " 'healthcare' 'horizon' 'in' 'industries' 'intelligence' 'meeting'\n",
            " 'minutes' 'ocean' 'only' 'prepare' 'ranging' 'realizing' 'revolutionized'\n",
            " 'she' 'sun' 'ten' 'the' 'to' 'warm' 'waves']\n",
            "BoW Representation\n",
            "[[1 0 0 0 1 1 0 1 0 0 0 0 1 1 0 0 0 1 0 0 0 0 0 1 0 0 0 0 0 0 1 0 3 0 1 1]\n",
            " [0 1 1 0 0 0 0 0 1 0 1 0 0 0 0 1 1 0 1 1 1 0 0 0 0 0 1 0 1 0 0 0 0 1 0 0]\n",
            " [0 0 0 1 0 0 1 0 0 1 0 1 0 0 1 0 0 0 0 0 0 1 1 0 1 1 0 1 0 2 0 1 2 1 0 0]]\n"
          ]
        }
      ]
    },
    {
      "cell_type": "code",
      "source": [
        "from sklearn.feature_extraction.text import TfidfVectorizer\n",
        "corpus = [\n",
        "    \"The sun dipped below the horizon, casting a warm golden glow across the ocean waves.\",\n",
        "    \"Advancements in artificial intelligence have revolutionized industries ranging from healthcare to finance.\",\n",
        "    \"She glanced at the clock, realizing she only had ten minutes to prepare for the meeting.\",\n",
        "]\n",
        "tfidf_vectorizer = TfidfVectorizer()\n",
        "X_tfidf = tfidf_vectorizer.fit_transform(corpus)\n",
        "print(\"Vocubulary:\", tfidf_vectorizer.get_feature_names_out())\n",
        "print(\"TF-IDF Represenation\")\n",
        "print(X_tfidf.toarray())"
      ],
      "metadata": {
        "colab": {
          "base_uri": "https://localhost:8080/"
        },
        "id": "zg4joAXX92E3",
        "outputId": "d7fe3d7f-5054-4850-d303-c18d5ddf3db7"
      },
      "execution_count": null,
      "outputs": [
        {
          "output_type": "stream",
          "name": "stdout",
          "text": [
            "Vocubulary: ['across' 'advancements' 'artificial' 'at' 'below' 'casting' 'clock'\n",
            " 'dipped' 'finance' 'for' 'from' 'glanced' 'glow' 'golden' 'had' 'have'\n",
            " 'healthcare' 'horizon' 'in' 'industries' 'intelligence' 'meeting'\n",
            " 'minutes' 'ocean' 'only' 'prepare' 'ranging' 'realizing' 'revolutionized'\n",
            " 'she' 'sun' 'ten' 'the' 'to' 'warm' 'waves']\n",
            "TF-IDF Represenation\n",
            "[[0.2484091  0.         0.         0.         0.2484091  0.2484091\n",
            "  0.         0.2484091  0.         0.         0.         0.\n",
            "  0.2484091  0.2484091  0.         0.         0.         0.2484091\n",
            "  0.         0.         0.         0.         0.         0.2484091\n",
            "  0.         0.         0.         0.         0.         0.\n",
            "  0.2484091  0.         0.56676458 0.         0.2484091  0.2484091 ]\n",
            " [0.         0.29388386 0.29388386 0.         0.         0.\n",
            "  0.         0.         0.29388386 0.         0.29388386 0.\n",
            "  0.         0.         0.         0.29388386 0.29388386 0.\n",
            "  0.29388386 0.29388386 0.29388386 0.         0.         0.\n",
            "  0.         0.         0.29388386 0.         0.29388386 0.\n",
            "  0.         0.         0.         0.22350625 0.         0.        ]\n",
            " [0.         0.         0.         0.23641258 0.         0.\n",
            "  0.23641258 0.         0.         0.23641258 0.         0.23641258\n",
            "  0.         0.         0.23641258 0.         0.         0.\n",
            "  0.         0.         0.         0.23641258 0.23641258 0.\n",
            "  0.23641258 0.23641258 0.         0.23641258 0.         0.47282517\n",
            "  0.         0.23641258 0.35959573 0.17979786 0.         0.        ]]\n"
          ]
        }
      ]
    }
  ]
}